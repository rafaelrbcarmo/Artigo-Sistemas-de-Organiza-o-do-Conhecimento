
!pip install requests pandas networkx matplotlib pyvis cdlib leidenalg
     
Requirement already satisfied: requests in /usr/local/lib/python3.11/dist-packages (2.32.3)
Requirement already satisfied: pandas in /usr/local/lib/python3.11/dist-packages (2.2.2)
Requirement already satisfied: networkx in /usr/local/lib/python3.11/dist-packages (3.5)
Requirement already satisfied: matplotlib in /usr/local/lib/python3.11/dist-packages (3.10.0)
Collecting pyvis
  Downloading pyvis-0.3.2-py3-none-any.whl.metadata (1.7 kB)
Collecting cdlib
  Downloading cdlib-0.4.0-py3-none-any.whl.metadata (8.8 kB)
Collecting leidenalg
  Downloading leidenalg-0.10.2-cp38-abi3-manylinux_2_17_x86_64.manylinux2014_x86_64.whl.metadata (10 kB)
Requirement already satisfied: charset-normalizer<4,>=2 in /usr/local/lib/python3.11/dist-packages (from requests) (3.4.2)
Requirement already satisfied: idna<4,>=2.5 in /usr/local/lib/python3.11/dist-packages (from requests) (3.10)
Requirement already satisfied: urllib3<3,>=1.21.1 in /usr/local/lib/python3.11/dist-packages (from requests) (2.4.0)
Requirement already satisfied: certifi>=2017.4.17 in /usr/local/lib/python3.11/dist-packages (from requests) (2025.4.26)
Requirement already satisfied: numpy>=1.23.2 in /usr/local/lib/python3.11/dist-packages (from pandas) (2.0.2)
Requirement already satisfied: python-dateutil>=2.8.2 in /usr/local/lib/python3.11/dist-packages (from pandas) (2.9.0.post0)
Requirement already satisfied: pytz>=2020.1 in /usr/local/lib/python3.11/dist-packages (from pandas) (2025.2)
Requirement already satisfied: tzdata>=2022.7 in /usr/local/lib/python3.11/dist-packages (from pandas) (2025.2)
Requirement already satisfied: contourpy>=1.0.1 in /usr/local/lib/python3.11/dist-packages (from matplotlib) (1.3.2)
Requirement already satisfied: cycler>=0.10 in /usr/local/lib/python3.11/dist-packages (from matplotlib) (0.12.1)
Requirement already satisfied: fonttools>=4.22.0 in /usr/local/lib/python3.11/dist-packages (from matplotlib) (4.58.2)
Requirement already satisfied: kiwisolver>=1.3.1 in /usr/local/lib/python3.11/dist-packages (from matplotlib) (1.4.8)
Requirement already satisfied: packaging>=20.0 in /usr/local/lib/python3.11/dist-packages (from matplotlib) (24.2)
Requirement already satisfied: pillow>=8 in /usr/local/lib/python3.11/dist-packages (from matplotlib) (11.2.1)
Requirement already satisfied: pyparsing>=2.3.1 in /usr/local/lib/python3.11/dist-packages (from matplotlib) (3.2.3)
Requirement already satisfied: ipython>=5.3.0 in /usr/local/lib/python3.11/dist-packages (from pyvis) (7.34.0)
Requirement already satisfied: jinja2>=2.9.6 in /usr/local/lib/python3.11/dist-packages (from pyvis) (3.1.6)
Requirement already satisfied: jsonpickle>=1.4.1 in /usr/local/lib/python3.11/dist-packages (from pyvis) (4.1.1)
Requirement already satisfied: scikit-learn in /usr/local/lib/python3.11/dist-packages (from cdlib) (1.6.1)
Requirement already satisfied: tqdm in /usr/local/lib/python3.11/dist-packages (from cdlib) (4.67.1)
Collecting demon (from cdlib)
  Downloading demon-2.0.6-py3-none-any.whl.metadata (5.1 kB)
Requirement already satisfied: python-louvain>=0.16 in /usr/local/lib/python3.11/dist-packages (from cdlib) (0.16)
Requirement already satisfied: scipy>=1.10 in /usr/local/lib/python3.11/dist-packages (from cdlib) (1.15.3)
Collecting pulp (from cdlib)
  Downloading pulp-3.2.1-py3-none-any.whl.metadata (6.9 kB)
Requirement already satisfied: seaborn in /usr/local/lib/python3.11/dist-packages (from cdlib) (0.13.2)
Collecting eva-lcd (from cdlib)
  Downloading eva_lcd-0.1.1-py3-none-any.whl.metadata (731 bytes)
Collecting bimlpa (from cdlib)
  Downloading bimlpa-0.1.2-py3-none-any.whl.metadata (725 bytes)
Collecting python-igraph>=0.10 (from cdlib)
  Downloading python_igraph-0.11.9-py3-none-any.whl.metadata (3.1 kB)
Collecting angelcommunity (from cdlib)
  Downloading angelcommunity-2.0.0-py3-none-any.whl.metadata (4.0 kB)
Requirement already satisfied: pooch in /usr/local/lib/python3.11/dist-packages (from cdlib) (1.8.2)
Collecting dynetx (from cdlib)
  Downloading dynetx-0.3.2-py3-none-any.whl.metadata (2.9 kB)
Collecting thresholdclustering (from cdlib)
  Downloading thresholdclustering-1.1-py3-none-any.whl.metadata (4.2 kB)
Collecting python-Levenshtein (from cdlib)
  Downloading python_levenshtein-0.27.1-py3-none-any.whl.metadata (3.7 kB)
Requirement already satisfied: plotly in /usr/local/lib/python3.11/dist-packages (from cdlib) (5.24.1)
Collecting igraph<0.12,>=0.10.0 (from leidenalg)
  Downloading igraph-0.11.9-cp39-abi3-manylinux_2_17_x86_64.manylinux2014_x86_64.whl.metadata (4.4 kB)
Collecting texttable>=1.6.2 (from igraph<0.12,>=0.10.0->leidenalg)
  Downloading texttable-1.7.0-py2.py3-none-any.whl.metadata (9.8 kB)
Requirement already satisfied: setuptools>=18.5 in /usr/local/lib/python3.11/dist-packages (from ipython>=5.3.0->pyvis) (75.2.0)
Collecting jedi>=0.16 (from ipython>=5.3.0->pyvis)
  Downloading jedi-0.19.2-py2.py3-none-any.whl.metadata (22 kB)
Requirement already satisfied: decorator in /usr/local/lib/python3.11/dist-packages (from ipython>=5.3.0->pyvis) (4.4.2)
Requirement already satisfied: pickleshare in /usr/local/lib/python3.11/dist-packages (from ipython>=5.3.0->pyvis) (0.7.5)
Requirement already satisfied: traitlets>=4.2 in /usr/local/lib/python3.11/dist-packages (from ipython>=5.3.0->pyvis) (5.7.1)
Requirement already satisfied: prompt-toolkit!=3.0.0,!=3.0.1,<3.1.0,>=2.0.0 in /usr/local/lib/python3.11/dist-packages (from ipython>=5.3.0->pyvis) (3.0.51)
Requirement already satisfied: pygments in /usr/local/lib/python3.11/dist-packages (from ipython>=5.3.0->pyvis) (2.19.1)
Requirement already satisfied: backcall in /usr/local/lib/python3.11/dist-packages (from ipython>=5.3.0->pyvis) (0.2.0)
Requirement already satisfied: matplotlib-inline in /usr/local/lib/python3.11/dist-packages (from ipython>=5.3.0->pyvis) (0.1.7)
Requirement already satisfied: pexpect>4.3 in /usr/local/lib/python3.11/dist-packages (from ipython>=5.3.0->pyvis) (4.9.0)
Requirement already satisfied: MarkupSafe>=2.0 in /usr/local/lib/python3.11/dist-packages (from jinja2>=2.9.6->pyvis) (3.0.2)
Requirement already satisfied: six>=1.5 in /usr/local/lib/python3.11/dist-packages (from python-dateutil>=2.8.2->pandas) (1.17.0)
Requirement already satisfied: future in /usr/local/lib/python3.11/dist-packages (from angelcommunity->cdlib) (1.0.0)
Requirement already satisfied: tenacity>=6.2.0 in /usr/local/lib/python3.11/dist-packages (from plotly->cdlib) (9.1.2)
Requirement already satisfied: platformdirs>=2.5.0 in /usr/local/lib/python3.11/dist-packages (from pooch->cdlib) (4.3.8)
Collecting Levenshtein==0.27.1 (from python-Levenshtein->cdlib)
  Downloading levenshtein-0.27.1-cp311-cp311-manylinux_2_17_x86_64.manylinux2014_x86_64.whl.metadata (3.6 kB)
Collecting rapidfuzz<4.0.0,>=3.9.0 (from Levenshtein==0.27.1->python-Levenshtein->cdlib)
  Downloading rapidfuzz-3.13.0-cp311-cp311-manylinux_2_17_x86_64.manylinux2014_x86_64.whl.metadata (12 kB)
Requirement already satisfied: joblib>=1.2.0 in /usr/local/lib/python3.11/dist-packages (from scikit-learn->cdlib) (1.5.1)
Requirement already satisfied: threadpoolctl>=3.1.0 in /usr/local/lib/python3.11/dist-packages (from scikit-learn->cdlib) (3.6.0)
Requirement already satisfied: parso<0.9.0,>=0.8.4 in /usr/local/lib/python3.11/dist-packages (from jedi>=0.16->ipython>=5.3.0->pyvis) (0.8.4)
Requirement already satisfied: ptyprocess>=0.5 in /usr/local/lib/python3.11/dist-packages (from pexpect>4.3->ipython>=5.3.0->pyvis) (0.7.0)
Requirement already satisfied: wcwidth in /usr/local/lib/python3.11/dist-packages (from prompt-toolkit!=3.0.0,!=3.0.1,<3.1.0,>=2.0.0->ipython>=5.3.0->pyvis) (0.2.13)
Downloading pyvis-0.3.2-py3-none-any.whl (756 kB)
   ━━━━━━━━━━━━━━━━━━━━━━━━━━━━━━━━━━━━━━━━ 756.0/756.0 kB 14.1 MB/s eta 0:00:00
Downloading cdlib-0.4.0-py3-none-any.whl (263 kB)
   ━━━━━━━━━━━━━━━━━━━━━━━━━━━━━━━━━━━━━━━━ 263.6/263.6 kB 9.1 MB/s eta 0:00:00
Downloading leidenalg-0.10.2-cp38-abi3-manylinux_2_17_x86_64.manylinux2014_x86_64.whl (2.0 MB)
   ━━━━━━━━━━━━━━━━━━━━━━━━━━━━━━━━━━━━━━━━ 2.0/2.0 MB 38.0 MB/s eta 0:00:00
Downloading igraph-0.11.9-cp39-abi3-manylinux_2_17_x86_64.manylinux2014_x86_64.whl (4.4 MB)
   ━━━━━━━━━━━━━━━━━━━━━━━━━━━━━━━━━━━━━━━━ 4.4/4.4 MB 32.5 MB/s eta 0:00:00
Downloading python_igraph-0.11.9-py3-none-any.whl (9.2 kB)
Downloading angelcommunity-2.0.0-py3-none-any.whl (10 kB)
Downloading bimlpa-0.1.2-py3-none-any.whl (7.0 kB)
Downloading demon-2.0.6-py3-none-any.whl (7.3 kB)
Downloading dynetx-0.3.2-py3-none-any.whl (39 kB)
Downloading eva_lcd-0.1.1-py3-none-any.whl (9.2 kB)
Downloading pulp-3.2.1-py3-none-any.whl (16.4 MB)
   ━━━━━━━━━━━━━━━━━━━━━━━━━━━━━━━━━━━━━━━━ 16.4/16.4 MB 16.5 MB/s eta 0:00:00
Downloading python_levenshtein-0.27.1-py3-none-any.whl (9.4 kB)
Downloading levenshtein-0.27.1-cp311-cp311-manylinux_2_17_x86_64.manylinux2014_x86_64.whl (161 kB)
   ━━━━━━━━━━━━━━━━━━━━━━━━━━━━━━━━━━━━━━━━ 161.7/161.7 kB 8.9 MB/s eta 0:00:00
Downloading thresholdclustering-1.1-py3-none-any.whl (5.3 kB)
Downloading jedi-0.19.2-py2.py3-none-any.whl (1.6 MB)
   ━━━━━━━━━━━━━━━━━━━━━━━━━━━━━━━━━━━━━━━━ 1.6/1.6 MB 16.2 MB/s eta 0:00:00
Downloading texttable-1.7.0-py2.py3-none-any.whl (10 kB)
Downloading rapidfuzz-3.13.0-cp311-cp311-manylinux_2_17_x86_64.manylinux2014_x86_64.whl (3.1 MB)
   ━━━━━━━━━━━━━━━━━━━━━━━━━━━━━━━━━━━━━━━━ 3.1/3.1 MB 41.5 MB/s eta 0:00:00
Installing collected packages: texttable, thresholdclustering, rapidfuzz, pulp, jedi, igraph, eva-lcd, dynetx, demon, python-igraph, Levenshtein, leidenalg, pyvis, python-Levenshtein, bimlpa, angelcommunity, cdlib
Successfully installed Levenshtein-0.27.1 angelcommunity-2.0.0 bimlpa-0.1.2 cdlib-0.4.0 demon-2.0.6 dynetx-0.3.2 eva-lcd-0.1.1 igraph-0.11.9 jedi-0.19.2 leidenalg-0.10.2 pulp-3.2.1 python-Levenshtein-0.27.1 python-igraph-0.11.9 pyvis-0.3.2 rapidfuzz-3.13.0 texttable-1.7.0 thresholdclustering-1.1


import os
import requests
import time
import networkx as nx
import matplotlib.pyplot as plt
from pyvis.network import Network
from cdlib import algorithms
from IPython.display import HTML, display
from google.colab import userdata


tmdb_api_key = userdata.get('TMDB_API_KEY')
BASE_URL = "https://api.themoviedb.org/3"


ANO_DE_PESQUISA = 2024
ID_GÊNERO = 99  # ID de "Documentário"
MIN_CONT_VOTOS = 50
MIN_DURACAO = 60


def discover_movies(api_key, year, genre_id, min_votes):
    """
    Encontrando filmes aptos para a pesquisa.
    """
    discovered_movies = []
    page = 1
    total_pages = 1
    print("--- Buscando filmes de acordo com os critérios da pesquisa ---")
    print(f"Ano: {year}, Gênero: Documentário, Votos: >{min_votes}")

    while page <= total_pages:

        params = {
            'api_key': api_key,
            'language': 'pt-BR',
            'primary_release_year': year,
            'with_genres': genre_id,
            'vote_count.gte': min_votes,
            'sort_by': 'popularity.desc',
            'page': page
        }
        try:
            response = requests.get(f"{BASE_URL}/discover/movie", params=params)
            response.raise_for_status()
            data = response.json()
            discovered_movies.extend(data.get('results', []))
            if page == 1:
                total_pages = data.get('total_pages', 1)
                print(f"Encontrados {data.get('total_results', 0)} resultados preliminares em {total_pages} página(s).")
            page += 1
            time.sleep(0.25)
        except requests.RequestException as e:
            print(f"Erro ao buscar página {page}: {e}")
            break
    return discovered_movies

def get_details_and_keywords(api_key, movie_id):
    """Busca detalhes completos e keywords de um filme específico."""
    try:

        details_url = f"{BASE_URL}/movie/{movie_id}?api_key={api_key}&language=pt-BR"
        response_details = requests.get(details_url)
        response_details.raise_for_status()
        movie_data = response_details.json()


        keywords_url = f"{BASE_URL}/movie/{movie_id}/keywords?api_key={api_key}"
        response_keywords = requests.get(keywords_url)
        response_keywords.raise_for_status()
        keywords_data = response_keywords.json()

        return {
            'id': movie_data['id'],
            'title': movie_data['title'],
            'runtime': movie_data.get('runtime', 0),
            'keywords': [kw['name'] for kw in keywords_data.get('keywords', [])]
        }
    except requests.RequestException as e:
        print(f"Erro ao buscar detalhes para o filme ID {movie_id}: {e}")
        return None



def build_knowledge_graph(movies_info):
    """Constrói o grafo de comunidades das keywords."""
    print("\n--- Construindo os Grafos ---")
    G_main = nx.Graph()
    G_keywords = nx.Graph()

    for movie_id, data in movies_info.items():
        movie_title, keywords = data['title'], data['keywords']
        G_main.add_node(movie_id, type='movie', label=movie_title, title=f"Filme: {movie_title}", size=25, color='skyblue')
        for keyword in keywords:
            G_main.add_node(keyword, type='keyword', label=keyword, title=f"Keyword: {keyword}", size=15)
            G_main.add_edge(movie_id, keyword)
        for i, kw1 in enumerate(keywords):
            for j, kw2 in enumerate(keywords):
                if i < j:
                    if G_keywords.has_edge(kw1, kw2):
                        G_keywords[kw1][kw2]['weight'] += 1
                    else:
                        G_keywords.add_edge(kw1, kw2, weight=1)

    print(f"Grafo principal construído com {G_main.number_of_nodes()} nós e {G_main.number_of_edges()} arestas.")
    print(f"Grafo de keywords construído com {G_keywords.number_of_nodes()} nós e {G_keywords.number_of_edges()} arestas.")
    return G_main, G_keywords

def apply_leiden_community_detection(graph_keywords):
    """Aplica o algoritmo de Leiden para detectar comunidades."""
    print("\n--- Agrupando as comunidades de keywords com o algoritmo de Leiden ---")
    if graph_keywords.number_of_nodes() == 0:
        print("Grafo de keywords está vazio. Pulando detecção de comunidades.")
        return []

    coms = algorithms.leiden(graph_keywords)
    communities = coms.communities

    print(f"Detectadas {len(communities)} comunidades de keywords.")
    for i, community in enumerate(communities):
        community_sample = community[:70]
        print(f"  Comunidade {i+1} ({len(community)} keywords): {', '.join(community_sample)}{'...' if len(community) > 70 else ''}")
    return communities

def visualize_graph_pyvis(graph, communities, filename="grafo_documentarios_leiden.html"):
    """Visualiza o grafo de forma interativa usando Pyvis."""
    print("\n---  Gerando visualização do grafo em HTML com Pyvis ---")
    net = Network(notebook=True, height="800px", width="100%", bgcolor="#222222", font_color="white", cdn_resources='remote')

    keyword_to_color = {}
    try: colors = plt.colormaps.get_cmap('tab20').colors
    except AttributeError: colors = plt.cm.get_cmap('tab20', len(communities)).colors

    for i, community in enumerate(communities):
        color = '#%02x%02x%02x' % (int(colors[i % len(colors)][0]*255), int(colors[i % len(colors)][1]*255), int(colors[i % len(colors)][2]*255))
        for keyword in community:
            keyword_to_color[keyword] = color

    for node_id, attrs in graph.nodes(data=True):
        if attrs['type'] == 'keyword':
            attrs['color'] = keyword_to_color.get(node_id, 'grey')
        net.add_node(node_id, **attrs)

    for u, v in graph.edges():
        net.add_edge(u, v, color="rgba(128, 128, 128, 0.3)")

    net.set_options("""
    var options = {"physics": {"forceAtlas2Based": {"gravitationalConstant": -50, "centralGravity": 0.01, "springLength": 100, "springConstant": 0.08}, "minVelocity": 0.75, "solver": "forceAtlas2Based"}, "interaction": {"hover": true, "tooltipDelay": 200}}
    """)

    net.show(filename)
    print(f"Grafo interativo salvo como '{filename}'.")
    display(HTML(filename))


if __name__ == "__main__":

    initial_movies = discover_movies(tmdb_api_key, ANO_DE_PESQUISA, ID_GÊNERO, MIN_CONT_VOTOS)

    if not initial_movies:
        print("\nNenhum filme correspondeu aos critérios iniciais. Encerrando.")
    else:

        print(f"\n--- Detalhando filmes e aplicando filtro de duração (> {MIN_DURACAO} min) ---")
        detailed_movies = []
        for movie_summary in initial_movies:
            details = get_details_and_keywords(tmdb_api_key, movie_summary['id'])
            if details and details.get('runtime', 0) > MIN_DURACAO:
                detailed_movies.append(details)
                print(f"  - '{details['title']}' [APTO] (Duração: {details['runtime']} min)")
            else:
                status = f"(Duração: {details.get('runtime', 0)} min)" if details else "(erro ao obter duração)"
                print(f"  - '{movie_summary['title']}' [INAPTO] {status}")
            time.sleep(0.25)

        if not detailed_movies:
            print("\nNenhum filme foi aprovado no critério duração")
        else:

            movies_information = {movie['id']: {'title': movie['title'], 'keywords': movie['keywords']} for movie in detailed_movies}


            main_graph, keywords_graph = build_knowledge_graph(movies_information)
            keyword_communities = apply_leiden_community_detection(keywords_graph)
            visualize_graph_pyvis(main_graph, keyword_communities)
     
--- Buscando filmes de acordo com os critérios da pesquisa ---
Ano: 2024, Gênero: Documentário, Votos: >50
Encontrados 29 resultados em 2 página(s).

--- Detalhando filmes e aplicando filtro de duração (> 60 min) ---
  - 'Sem Chão' [APTO] (Duração: 92 min)
  - 'The Walking Dead: The Return' [INAPTO] (Duração: 40 min)
  - 'Peça por Peça' [APTO] (Duração: 93 min)
  - 'Super/Man: A História de Christopher Reeve' [APTO] (Duração: 106 min)
  - 'As Crianças Perdidas' [APTO] (Duração: 95 min)
  - 'A Extraordinária Vida de Ibelin' [APTO] (Duração: 103 min)
  - 'Eu Sou: Celine Dion' [APTO] (Duração: 102 min)
  - 'A Noite que Mudou o Pop' [APTO] (Duração: 97 min)
  - 'Will & Harper' [APTO] (Duração: 114 min)
  - 'Quatro Paredes' [APTO] (Duração: 103 min)
  - 'A Conspiração Consumista' [APTO] (Duração: 84 min)
  - 'Federer: Doze Últimos Dias' [APTO] (Duração: 88 min)
  - 'A Sociedade da Neve: Quem Fomos na Montanha' [INAPTO] (Duração: 36 min)
  - 'Avicii: Meu Nome é Tim' [APTO] (Duração: 97 min)
  - 'Como Roubar um Banco' [APTO] (Duração: 88 min)
  - 'O Caso dos Irmãos Menendez' [APTO] (Duração: 118 min)
  - 'Einstein e a Bomba' [APTO] (Duração: 76 min)
  - 'A Música de John Williams' [APTO] (Duração: 106 min)
  - 'Criptofraude' [APTO] (Duração: 94 min)
  - 'Amante, Stalker e Mortal' [APTO] (Duração: 90 min)
  - 'O Que Jennifer Fez?' [APTO] (Duração: 88 min)
  - 'Skywalkers: Uma História de Amor' [APTO] (Duração: 100 min)
  - 'Eu Sou Racista?' [APTO] (Duração: 101 min)
  - 'Ghost - Rite Here Rite Now' [APTO] (Duração: 144 min)
  - 'Kaizen: 1 an pour gravir l'Everest' [APTO] (Duração: 160 min)
  - 'Cérémonie d'ouverture des Jeux Olympiques de Paris 2024' [APTO] (Duração: 239 min)
  - 'Dahomey' [APTO] (Duração: 68 min)
  - 'RETURN' [INAPTO] (Duração: 40 min)
  - 'Wa Ada Maroun Ila Beirut' [APTO] (Duração: 125 min)

--- Construindo os Grafos das comunidades de keywords ---
Grafo principal construído com 228 nós e 231 arestas.
Grafo de keywords construído com 202 nós e 1177 arestas.

--- Detectando as comunidades de keywords com o algoritmo de Leiden ---
Detectadas 15 comunidades de keywords.
  Comunidade 1 (27 keywords): palestinian-israeli conflict, palestine, fascism, zionism, ethnic cleansing, racism, inequality, anti-apartheid, shocking, occupation, somber, colonization, palestinian resistance, frightened, murder, canada, ontario, canada, police interrogation, mother daughter relationship, 911 call, disheartening, politics, disguise, obnoxious, self-loathing, hilarious, objective
  Comunidade 2 (26 keywords): music documentary, figure study, love letter, behind the scenes, illness, singer-songwriter, power of love, touring, rare disease, semi-biographical, resilience, human spirit, famous song, women singer, power of music, inspiring story, dj, inspiring, portrait of an artist, inspirational, concert footage, composer, film score, music film, behind the music, academy award
  Comunidade 3 (21 keywords): biography, docudrama, horse riding accident, disability, quadriplegic, activism, actor, documentary, archive footage, based on true story, atomic bomb, atomic bomb test, albert einstein, historical, remorse, old footage, history and legacy, human history, war documentary, past regrets, historical documentary
  Comunidade 4 (19 keywords): robber, seattle, washington, bank robber, bank robbery, true crime, skills challenge, how to, 1990s, robbery operation, special skills, crime, compassionate, bitcoin, crypto-currencies, scathing, murder investigation, online dating, nebraska, catfish
  Comunidade 5 (19 keywords): concert, pope, heavy metal, rock music, demon, hard rock, concert film, progressive rock, ghoul, pop rock, imaginative, based on web series, father son relationship, mother son relationship, experimental narrative, swedish music, satanic, theatrical group, live concert
  Comunidade 6 (18 keywords): tennis, tennis player, affectation, sports documentary, sports star, celebrity interview, tennis pro, famous people, sport legend, celebratory, tennis documentary, stuntman, stuntwoman, boyfriend girlfriend relationship, aerial stunts, world's tallest building, acrobatics, scaling a building
  Comunidade 7 (14 keywords): japan, sexual violence, justice, human rights, female journalist, woman director, sexual assault, fight for justice, gender equality, systemic corruption, corrupt legal system, accountability, me too movement, disgusted
  Comunidade 8 (10 keywords): marketing, consumerism, internet, shopping, internet culture, sale, trickery, stealth marketing, home shopping, closing the salesdeal
  Comunidade 9 (10 keywords): expedition, mountaineering, mount everest, determination, physical condition, alpine climbing, dedication, physical challenge, physical training, mountain expedition
  Comunidade 10 (9 keywords): gamer, world of warcraft, testify, pc gaming, testimony, pc games, dignified, game footage, gamer documentary
  Comunidade 11 (9 keywords): paris, france, olympic games, olympian sports team, stage performance, olympic athlete, stage show performer, opening ceremony, music show, olympic champion
  Comunidade 12 (6 keywords): music recording, song writing, world hunger, ensemble cast, original musical, song recording
  Comunidade 13 (6 keywords): musical, coming of age, live action and animation, lego, experimental documentary, animated documentary
  Comunidade 14 (5 keywords): friendship, road trip, lgbt, trans woman, gender transition
  Comunidade 15 (3 keywords): amazon rainforest, indigenous peoples, plane crash

--- Gerando visualização do grafo em HTML com Pyvis ---
grafo_documentarios_leiden.html
Grafo interativo salvo como 'grafo_documentarios_leiden.html'.
0%
